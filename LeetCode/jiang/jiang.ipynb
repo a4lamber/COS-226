{
 "cells": [
  {
   "attachments": {},
   "cell_type": "markdown",
   "metadata": {},
   "source": [
    "what is the run-time complexity of the following algorithm, in terms of n and m?\n"
   ]
  },
  {
   "cell_type": "code",
   "execution_count": 2,
   "metadata": {},
   "outputs": [],
   "source": [
    "def print_all_codes(n, m):\n",
    "    def print_01_codes(current, num_digits):\n",
    "        if num_digits == 0:\n",
    "            # base case \n",
    "            print(current)\n",
    "        else:\n",
    "            # recursive case\n",
    "            print_01_codes('0' + current, num_digits - 1)\n",
    "            print_01_codes('1' + current, num_digits - 1)\n",
    "        \n",
    "        # 这里是正式开始\n",
    "    upper_bound = 0\n",
    "    while True:\n",
    "        for i in range(upper_bound):\n",
    "            print_01_codes('', n)\n",
    "        # jump out of the loop when it's larger than m\n",
    "        if upper_bound > m:\n",
    "            break\n",
    "        upper_bound += 1"
   ]
  },
  {
   "cell_type": "code",
   "execution_count": 1,
   "metadata": {},
   "outputs": [
    {
     "name": "stdout",
     "output_type": "stream",
     "text": [
      "0\n",
      "1\n"
     ]
    }
   ],
   "source": [
    "for i in range(2):\n",
    "    print(i)"
   ]
  },
  {
   "cell_type": "code",
   "execution_count": null,
   "metadata": {},
   "outputs": [],
   "source": []
  }
 ],
 "metadata": {
  "kernelspec": {
   "display_name": "py39",
   "language": "python",
   "name": "python3"
  },
  "language_info": {
   "codemirror_mode": {
    "name": "ipython",
    "version": 3
   },
   "file_extension": ".py",
   "mimetype": "text/x-python",
   "name": "python",
   "nbconvert_exporter": "python",
   "pygments_lexer": "ipython3",
   "version": "3.9.7"
  },
  "orig_nbformat": 4,
  "vscode": {
   "interpreter": {
    "hash": "ae1fefc8646a06dd2e75004cd934adda7c5727b046986a772e3b44b0ffba9754"
   }
  }
 },
 "nbformat": 4,
 "nbformat_minor": 2
}
