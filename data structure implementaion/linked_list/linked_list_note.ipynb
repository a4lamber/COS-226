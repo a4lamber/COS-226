{
 "cells": [
  {
   "attachments": {},
   "cell_type": "markdown",
   "metadata": {},
   "source": [
    "# Linked list implementation\n"
   ]
  },
  {
   "attachments": {},
   "cell_type": "markdown",
   "metadata": {},
   "source": [
    "\n",
    "## Singly linked structures and doubly linked structures\n",
    "\n",
    "linked structure分两类，singly linked structure and doubly linked structure, as illustrated in the figure below\n",
    "\n",
    "![](./imgs/linked_structure.png)\n",
    "\n",
    "有以下几个特殊的name:\n",
    "- `node`: linked list的组成部分\n",
    "- `head node`: linked list的开始的node\n",
    "- `tail node`: linked list最后的node\n"
   ]
  },
  {
   "attachments": {},
   "cell_type": "markdown",
   "metadata": {},
   "source": [
    "## Noncontiguous memory and nodes\n",
    "\n",
    "Array is stored in contiguous memory so it's logical sequence is highly coupled to the physical sequence of cells in memory.\n",
    "\n",
    "> logical sequence: 逻辑顺序; physical sequence: 实际储存在memory中的顺序;\n",
    "\n",
    "具体怎么实现non contiguous memory的方法, 就是通过pointer来access data:\n",
    "- In python, every node consists of data and pointer where pointer refers to next node.\n",
    "\n"
   ]
  },
  {
   "attachments": {},
   "cell_type": "markdown",
   "metadata": {},
   "source": [
    "## Define a singly linked node class"
   ]
  },
  {
   "cell_type": "code",
   "execution_count": 7,
   "metadata": {},
   "outputs": [],
   "source": [
    "class Node():\n",
    "    def __init__(self,data,next = None):\n",
    "        self.data = data\n",
    "        self.next = next"
   ]
  },
  {
   "attachments": {},
   "cell_type": "markdown",
   "metadata": {},
   "source": [
    "任何一个linked list都有两步骤:\n",
    "- create nodes\n",
    "- create connection between nodes\n",
    "\n",
    "接下来你可以来构造出下图的nodes\n",
    "\n",
    "![](./imgs/three_links.png)\n"
   ]
  },
  {
   "cell_type": "code",
   "execution_count": 14,
   "metadata": {},
   "outputs": [],
   "source": [
    "# create node1 has no data, refers to None\n",
    "node1 = None\n",
    "\n",
    "# create node 2 has data \"A\" refers to None\n",
    "node2 = Node(\"A\")\n",
    "\n",
    "# create node 3 has data \"B\" refers to node2\n",
    "node3 = Node(\"B\",node2)"
   ]
  },
  {
   "attachments": {},
   "cell_type": "markdown",
   "metadata": {},
   "source": [
    "接下来你可以做一些小练习来提取:\n",
    "- node2中的数据\n",
    "- 连接node1与node3 with `node1.next = node3` is not gonna work\n"
   ]
  },
  {
   "cell_type": "code",
   "execution_count": 20,
   "metadata": {},
   "outputs": [],
   "source": [
    "# access node 2 中的数据\n",
    "node3.next.data\n",
    "\n",
    "# 直接建立起联系node1与node3的方法\n",
    "node1 = Node(\"C\",node3)"
   ]
  },
  {
   "attachments": {},
   "cell_type": "markdown",
   "metadata": {},
   "source": [
    "用创建node和连接node的方法可以放到循环里去解决这个问题，让其变的efficient:"
   ]
  },
  {
   "cell_type": "code",
   "execution_count": 21,
   "metadata": {},
   "outputs": [
    {
     "name": "stdout",
     "output_type": "stream",
     "text": [
      "5\n",
      "4\n",
      "3\n",
      "2\n",
      "1\n",
      "0\n"
     ]
    }
   ],
   "source": [
    "head = None\n",
    "\n",
    "# 插入新的node into linked list\n",
    "for i in range(0,6):\n",
    "    head = Node(i,head)\n",
    "\n",
    "# 倒着print linked list中的数据\n",
    "while head!=None:\n",
    "    # when head equals none, 说明就到了empty node, 也就是head node, 可以作为iteration stopper\n",
    "    print(head.data)\n",
    "    head = head.next"
   ]
  },
  {
   "attachments": {},
   "cell_type": "markdown",
   "metadata": {},
   "source": [
    "总结一下以上代码有几个发现:\n",
    "- 在生成linked list时，新node会在linked list最前面;\n",
    "- 当你access data的时候，是display data in reverse order;\n",
    "- ACCESS数据后, `head = None` 这个linked list也就寿终正寝被扔到garbage collector了\n",
    "\n"
   ]
  },
  {
   "attachments": {},
   "cell_type": "markdown",
   "metadata": {},
   "source": [
    "## Operations on singly linked structures\n",
    "讨论以下的几个operation:\n",
    "- Traversal\n",
    "- Searching\n",
    "- Replacement\n",
    "- Inserting\n",
    "  - Inserting at beginning\n",
    "  - Inserting at the end\n",
    "- Removing\n",
    "  - Removing at beginning\n",
    "  - Removing at the end\n",
    "- Inserting at any position\n",
    "- Removing at any position"
   ]
  },
  {
   "attachments": {},
   "cell_type": "markdown",
   "metadata": {},
   "source": [
    "### Traversal\n",
    "\n",
    "挺有意思的一点是, 用在上一章的方法accessing node in linked list会导致其消失，可以用dummy variable 来解决这个问题\n",
    "\n",
    "![](./imgs/traversing_a_linked_list.png)\n",
    "\n",
    "> empty link (`None` in python `Null` in other languages) are stop-sign for linked list\n",
    "\n",
    "\n",
    "\n",
    "traversal a linked list时间复杂度\n",
    "|operation|时间复杂度|\n",
    "|-|-|\n",
    "|traversal a linked list |O(n)|"
   ]
  },
  {
   "cell_type": "code",
   "execution_count": 25,
   "metadata": {},
   "outputs": [
    {
     "name": "stdout",
     "output_type": "stream",
     "text": [
      "5\n",
      "4\n",
      "3\n",
      "2\n",
      "1\n"
     ]
    }
   ],
   "source": [
    "# 测试traverse a linked list\n",
    "head = None\n",
    "\n",
    "for i in range(1,6):\n",
    "    head = Node(i,head)\n",
    "    \n",
    "# set up dummy variable\n",
    "probe = head\n",
    "while probe != None:\n",
    "    print(probe.data)\n",
    "    probe = probe.next\n",
    "    "
   ]
  },
  {
   "attachments": {},
   "cell_type": "markdown",
   "metadata": {},
   "source": [
    "### Searching \n",
    "\n",
    "Searching a linked list有几个characteristics:\n",
    "- search linked list 属于sequential searching, 所以是$O(n)$\n",
    "- accessing也是sequential access, 所以也是$O(n)$"
   ]
  },
  {
   "cell_type": "code",
   "execution_count": 27,
   "metadata": {},
   "outputs": [
    {
     "name": "stdout",
     "output_type": "stream",
     "text": [
      "target not found\n"
     ]
    }
   ],
   "source": [
    "# search for a target in linked list\n",
    "def linked_list_search(linked_list,target):\n",
    "    \n",
    "    # create a dummy copy of the linked list\n",
    "    probe = linked_list\n",
    "    \n",
    "    # iterating until None or target found\n",
    "    while probe != None and target != probe.data:\n",
    "        probe = probe.next\n",
    "    \n",
    "    if probe!= None:\n",
    "        # 我找到啦!\n",
    "        print(\"target found\")\n",
    "    else:\n",
    "        print(\"target not found\")\n",
    "        \n",
    "        \n",
    "linked_list_search(head,6)        \n",
    "\n",
    "    \n",
    "# access a index in linked list"
   ]
  },
  {
   "attachments": {},
   "cell_type": "markdown",
   "metadata": {},
   "source": [
    "### Replacement\n",
    "replacement, 本质上就是search, 时间复杂度也是$O(n)$"
   ]
  },
  {
   "cell_type": "code",
   "execution_count": null,
   "metadata": {},
   "outputs": [],
   "source": [
    "# search for a target in linked list\n",
    "def linked_list_replace(linked_list,target,newItem):\n",
    "\n",
    "    # create a dummy copy of the linked list\n",
    "    probe = linked_list\n",
    "    \n",
    "    # iterating until None or target found\n",
    "    while probe != None and target != probe.data:\n",
    "        probe = probe.next\n",
    "    \n",
    "    if probe!= None:\n",
    "        # 我找到啦!\n",
    "        probe.data = newItem\n",
    "        return True\n",
    "    else:\n",
    "        return False\n",
    "        "
   ]
  },
  {
   "attachments": {},
   "cell_type": "markdown",
   "metadata": {},
   "source": [
    "### Insertion Operation\n",
    "Insertaion operation可以分为三种:\n",
    "- insert at the beginning\n",
    "- insert at the end\n",
    "- insert at any position $i$\n",
    "\n",
    "#### Insertion at the begining\n",
    "这恰恰也是linked list的优势所在，直接插就可以了\n",
    "\n",
    "![](./imgs/insert_begining_linked_list.png)"
   ]
  },
  {
   "attachments": {},
   "cell_type": "markdown",
   "metadata": {},
   "source": [
    "#### Insertion at the end\n",
    "Also a traversal pattern"
   ]
  },
  {
   "attachments": {},
   "cell_type": "markdown",
   "metadata": {},
   "source": [
    "### Removing Operation\n",
    "\n"
   ]
  },
  {
   "cell_type": "code",
   "execution_count": null,
   "metadata": {},
   "outputs": [],
   "source": [
    "\n",
    "    "
   ]
  },
  {
   "attachments": {},
   "cell_type": "markdown",
   "metadata": {},
   "source": [
    "## Complexity trade_off\n",
    "\n",
    "总结一下linked list的一些特点：\n",
    "- insertion and deletion operation is $O(1)$, but it only supports sequential access so requires search operation is $O(n)$\n",
    "- 扩容减容很简单,因为只需要在beginning `insert` or `remove` 即可，在这两个位置，不需要search (which costs $O(n)$), 扩容一格只需要O(1)即可"
   ]
  },
  {
   "cell_type": "code",
   "execution_count": null,
   "metadata": {},
   "outputs": [],
   "source": []
  },
  {
   "attachments": {},
   "cell_type": "markdown",
   "metadata": {},
   "source": [
    "\n",
    "# Conceptual exercises\n",
    "- using box and pointer notation, draw a picture of the nodes created by the first loop in the tester program.\n",
    "- what happens when a programmer attempts to access a node's data fields when the node variables refers to `None`? How do you guard against it?\n",
    "- write a code segment that transfers items from a full array to a singly linked structure. The operation should preserve the ordering of the items."
   ]
  },
  {
   "cell_type": "code",
   "execution_count": null,
   "metadata": {},
   "outputs": [],
   "source": []
  },
  {
   "cell_type": "markdown",
   "metadata": {},
   "source": []
  }
 ],
 "metadata": {
  "kernelspec": {
   "display_name": "py39",
   "language": "python",
   "name": "python3"
  },
  "language_info": {
   "codemirror_mode": {
    "name": "ipython",
    "version": 3
   },
   "file_extension": ".py",
   "mimetype": "text/x-python",
   "name": "python",
   "nbconvert_exporter": "python",
   "pygments_lexer": "ipython3",
   "version": "3.9.7"
  },
  "orig_nbformat": 4,
  "vscode": {
   "interpreter": {
    "hash": "ae1fefc8646a06dd2e75004cd934adda7c5727b046986a772e3b44b0ffba9754"
   }
  }
 },
 "nbformat": 4,
 "nbformat_minor": 2
}
