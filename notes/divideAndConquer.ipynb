{
 "cells": [
  {
   "cell_type": "markdown",
   "metadata": {},
   "source": [
    "# Understanding divide and conquer\n",
    "---\n",
    "Table of concept\n",
    "- [a](#factorial-example)"
   ]
  },
  {
   "cell_type": "markdown",
   "metadata": {},
   "source": [
    "To understand divide and conquer, it consists of three steps:\n",
    "- `divide`: divide the problem into a series of sub-problems (typically done by recursion)\n",
    "- `conquer`: solve the sub-problem\n",
    "- `combine`: combine or merge the solution of sub-problem together for original problem.\n",
    "\n",
    "It is typically taken care of by "
   ]
  },
  {
   "cell_type": "markdown",
   "metadata": {},
   "source": [
    "## factorial example\n",
    "Let's understand recursion by looking at a factorial problem."
   ]
  },
  {
   "cell_type": "code",
   "execution_count": 23,
   "metadata": {},
   "outputs": [],
   "source": [
    "def factorial(x):\n",
    "    \"\"\"\n",
    "    1. Recursivly find the factorial of integer 0,1,2,...\n",
    "    \n",
    "    Args:\n",
    "        x (_type_): integer of interest\n",
    "\n",
    "    Returns:\n",
    "        _type_: x! \n",
    "    \"\"\"\n",
    "    if x == 1 or x == 0:\n",
    "        return 1\n",
    "    else:\n",
    "        return (x * factorial(x-1))\n"
   ]
  },
  {
   "cell_type": "markdown",
   "metadata": {},
   "source": [
    "**Output**"
   ]
  },
  {
   "cell_type": "code",
   "execution_count": 24,
   "metadata": {},
   "outputs": [
    {
     "name": "stdout",
     "output_type": "stream",
     "text": [
      "The factorial of 0 is 1\n"
     ]
    }
   ],
   "source": [
    "num = 0\n",
    "print(\"The factorial of\", num, \"is\", factorial(num))"
   ]
  },
  {
   "cell_type": "markdown",
   "metadata": {},
   "source": [
    "In the above example, `factorial()` is a recursive function as it calls itself."
   ]
  },
  {
   "cell_type": "markdown",
   "metadata": {},
   "source": []
  }
 ],
 "metadata": {
  "kernelspec": {
   "display_name": "Python 3.9.7 ('py39')",
   "language": "python",
   "name": "python3"
  },
  "language_info": {
   "codemirror_mode": {
    "name": "ipython",
    "version": 3
   },
   "file_extension": ".py",
   "mimetype": "text/x-python",
   "name": "python",
   "nbconvert_exporter": "python",
   "pygments_lexer": "ipython3",
   "version": "3.9.7"
  },
  "orig_nbformat": 4,
  "vscode": {
   "interpreter": {
    "hash": "ae1fefc8646a06dd2e75004cd934adda7c5727b046986a772e3b44b0ffba9754"
   }
  }
 },
 "nbformat": 4,
 "nbformat_minor": 2
}
