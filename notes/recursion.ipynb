{
 "cells": [
  {
   "cell_type": "markdown",
   "metadata": {},
   "source": [
    "# Understanding Recursion\n",
    "---\n",
    "The objectives for this note book is to:\n",
    "- to understand recursion via it's definition and examples\n",
    "- to undetstand how recursion is implemented by a computer\n",
    "\n",
    "**Table of content**\n",
    "- [recursion-overview](#recursion-overview)"
   ]
  },
  {
   "cell_type": "code",
   "execution_count": 1,
   "metadata": {},
   "outputs": [],
   "source": [
    "# **Recursion** is highly correlated with the **divide-and-conquer** concept.\n",
    "\n",
    "# To understand divide and conquer, it consists of three steps:\n",
    "# - `divide`: divide the problem into a series of sub-problems (typically done by **recursion**)\n",
    "# - `conquer`: solve the sub-problem\n",
    "# - `combine`: combine or merge the solution of sub-problem together for original problem.\n",
    "\n",
    "# In order to understand the concept of divide and conquer, you must first understand **recursion** process.\n"
   ]
  },
  {
   "cell_type": "markdown",
   "metadata": {},
   "source": [
    "# 1. Recursion Overview\n",
    "\n",
    "> `recursion`: recursion is a form of iteration that allows you to solve problem.\n",
    "\n",
    "It could also solve the problem tackled by `while` and `for` loop. There are three rules of recursion:\n",
    "1. A recursive algorithm must have a **base case**.\n",
    "2. A recursive algorithm must change its state and move toward the base case.\n",
    "3. A recursive algorithm must call itself, recursively.\n",
    "\n"
   ]
  },
  {
   "cell_type": "markdown",
   "metadata": {},
   "source": [
    "## 2. Factorial\n",
    "Let's understand recursion by looking at a factorial problem and you will see how the three rules of recursion work in the following code snippet."
   ]
  },
  {
   "cell_type": "markdown",
   "metadata": {},
   "source": [
    "Let's understand the concept of recusion by implementing an algorithm to calculate factorial.\n",
    "\n",
    "![a](http://www.ganitcharcha.com/media/factorial.PNG)"
   ]
  },
  {
   "cell_type": "code",
   "execution_count": 20,
   "metadata": {},
   "outputs": [],
   "source": [
    "# algorithm 2.1\n",
    "def factorial(x):\n",
    "    \"\"\"\n",
    "    1. Recursivly find the factorial of integer 0,1,2,...\n",
    "    \n",
    "    Args:\n",
    "        x (_type_): integer of interest\n",
    "\n",
    "    Returns:\n",
    "        _type_: x! \n",
    "    \"\"\"\n",
    "    if x == 1 or x == 0:\n",
    "        # define a base case (rule # 1)\n",
    "        return 1\n",
    "    else:\n",
    "        # recursive call (rule # 2)\n",
    "        # changing its state factorial(x-1)\n",
    "        return (x * factorial(x-1))\n"
   ]
  },
  {
   "cell_type": "markdown",
   "metadata": {},
   "source": [
    "**Output**"
   ]
  },
  {
   "cell_type": "code",
   "execution_count": 22,
   "metadata": {},
   "outputs": [
    {
     "name": "stdout",
     "output_type": "stream",
     "text": [
      "The factorial of 0 is 1  with recursion\n"
     ]
    }
   ],
   "source": [
    "num = 0\n",
    "print(\"The factorial of\", num, \"is\", factorial(num), \" with recursion\")"
   ]
  },
  {
   "cell_type": "markdown",
   "metadata": {},
   "source": [
    "In the above example, `factorial()` is a recursive function as it calls itself."
   ]
  },
  {
   "cell_type": "code",
   "execution_count": 24,
   "metadata": {},
   "outputs": [],
   "source": [
    "# algorithm 2.2\n",
    "def factorial_regular(x):\n",
    "    # declare a variable to store\n",
    "    temp = 1\n",
    "    \n",
    "    \n",
    "    if x == 0 or x == 1:\n",
    "        return temp\n",
    "    else:\n",
    "        # 以空间换时间\n",
    "        space = [i for i in range(x+1) if i != 0]\n",
    "        \n",
    "        for item in space:\n",
    "            temp *= item\n",
    "        return temp"
   ]
  },
  {
   "cell_type": "markdown",
   "metadata": {},
   "source": [
    "**output**"
   ]
  },
  {
   "cell_type": "code",
   "execution_count": 23,
   "metadata": {},
   "outputs": [
    {
     "name": "stdout",
     "output_type": "stream",
     "text": [
      "[1, 2, 3]\n",
      "The factorial of 3 is 6  with regular algorithm.\n"
     ]
    }
   ],
   "source": [
    "num = 3\n",
    "print(\"The factorial of\", num, \"is\", factorial_regular(num), \" with regular algorithm.\")"
   ]
  },
  {
   "cell_type": "markdown",
   "metadata": {},
   "source": [
    "From the above two algorithms, you would know that there are more than one way to solve a problem, with regular method or recursion method. Then the question arises, how could we evalute and compare these two concepts? Let's look at our old friend **time complexity** and **space complexity**.\n",
    "\n",
    "|Algorithm|Time Complexity|Space complexity|\n",
    "|-|-|-|\n",
    "|regular|$O(n)$|$O(n)$|\n",
    "|recursion|$O(n)$|$O(0)$|\n",
    "\n",
    "Reasoning for the table above is shown above,\n",
    "- for recursion, it does not create any local variable, and it recursively call itself `n` time. Therefore it's time and space complexity are $O(n)$ and $O(0)$, respectively. \n",
    "- for regular, it creates a local float variable `temp` and a list collection `space` of size `n`. It's space complexity is $O(1+n)\\approx O(n)$ as $n$ -> $\\infty$. It's time complecity is $O(n)$ since it calls itself n time."
   ]
  },
  {
   "cell_type": "markdown",
   "metadata": {},
   "source": [
    "## 3. Fibonacci Sqeuence\n",
    "\n",
    "Let's consider fibonacci sequence $F(n): 0,1,1,2,3,5,8,13,21,34...$. Every item in the sequence is defined as the sum of two previous items except for first two item. The formula is written as,\n",
    "\n",
    "$$\n",
    "F(n) = \\left\\{\n",
    "\\begin{array}{ll}\n",
    "      0 & n=0\\\\\n",
    "      1 & n=1\\\\\n",
    "      F(n-1) + F(n-2) & n>2 \\\\\n",
    "\\end{array} \n",
    "\\right.\n",
    "$$"
   ]
  },
  {
   "cell_type": "markdown",
   "metadata": {},
   "source": [
    "After writing out the general formula for fibonacci sequence, isn't it a bit simpler for you to implement the code with recursion? The goal in ur mind is to construct a solution like this,\n",
    "\n",
    "|$F(n)$|0|1|1|2|3|5|8|13|21|34|55|\n",
    "|-|-|-|-|-|-|-|-|-|-|-|-|\n",
    "|index|0|1|2|3|4|5|6|7|8|9|10|\n",
    "\n",
    "\n"
   ]
  },
  {
   "cell_type": "markdown",
   "metadata": {},
   "source": [
    "### Algorithm 3-1 recursive solution"
   ]
  },
  {
   "cell_type": "code",
   "execution_count": 50,
   "metadata": {},
   "outputs": [],
   "source": [
    "# algorithm 3-1\n",
    "def fib_1(n):\n",
    "    \"\"\"\n",
    "    Solve fibonacci recursively.\n",
    "    \n",
    "    Args:\n",
    "        n (_type_): _description_\n",
    "\n",
    "    Returns:\n",
    "        _type_: _description_\n",
    "    \"\"\"\n",
    "    if n == 0:\n",
    "        return 0\n",
    "    elif n == 1 or n == 2:\n",
    "        return 1\n",
    "    else:\n",
    "        return fib_1(n-2) + fib_1(n-1)\n",
    "        "
   ]
  },
  {
   "cell_type": "markdown",
   "metadata": {},
   "source": [
    "**output**"
   ]
  },
  {
   "cell_type": "code",
   "execution_count": 49,
   "metadata": {},
   "outputs": [
    {
     "name": "stdout",
     "output_type": "stream",
     "text": [
      "The index 0 in fibonacci series is 0 with algorithm 3.1.\n"
     ]
    }
   ],
   "source": [
    "num = 0\n",
    "print(\"The index\",num,\"in fibonacci series\", \"is\", fib_1(num), \"with algorithm 3.1.\")"
   ]
  },
  {
   "cell_type": "markdown",
   "metadata": {},
   "source": [
    "After you implemented recursive solution, there are three questions:\n",
    "- is the algorithm correct?\n",
    "- what's the space and time complexity for this?\n",
    "- Room for improvement?\n",
    "\n",
    "Let's consider the number of iteration needed for computation of $F(n)$ as $T(n)$, the general formula for $T(n)$ is,\n",
    "\n",
    "$$\n",
    "F(n) = \\left\\{\n",
    "\\begin{array}{ll}\n",
    "      0 & n=0\\\\\n",
    "      1 & n=1\\\\\n",
    "      F(n-1) + F(n-2) & n>2 \\\\\n",
    "\\end{array} \n",
    "\\right.\n",
    "\n",
    "\\quad\\quad\\quad\n",
    "\n",
    "T(n) = \\left\\{\n",
    "\\begin{array}{ll}\n",
    "      T(n) = 1 & n=0\\\\\n",
    "      T(n) = 1 & n=1\\\\\n",
    "      T(n-1) + T(n-2) & n>2 \\\\\n",
    "\\end{array} \n",
    "\\right.\n",
    "$$\n",
    "\n",
    "We express the $F(n) = F(n-1) + F(n-2) $, is there a closed-form solution for it so we could estimate what's the time complexity for it?"
   ]
  },
  {
   "cell_type": "markdown",
   "metadata": {},
   "source": [
    "Fibnonacci series belongs to the category of constant-recursive sequence. In mathematics and theoretical computer science, a [constant-recursive sequence](https://en.wikipedia.org/wiki/Constant-recursive_sequence) is an infinite sequence of numbers where each number in the sequence is equal to a fixed linear combination of one or more of its immediate predecessors.\n",
    "\n",
    "For constant-recursive sequence, a closed-form solution exist and for this particular case of Fibnonacci series, it is derived by french mathmatician [Binet](https://en.wikipedia.org/wiki/Jacques_Philippe_Marie_Binet) named **Binet's formula**. It is defined as,\n",
    "\n",
    "$$\n",
    "\\begin{equation}\n",
    "F(n) = \\frac{\\phi^n - \\psi^n}{\\phi - \\psi} = \\frac{\\phi^n - \\psi^n}{\\sqrt 5}\n",
    "\\end{equation}\n",
    "$$\n",
    "where $\\phi$ is golden ratio $\\phi = \\frac{1+\\sqrt 5}{2}\\approx 1.61803...$,\n",
    "\n",
    "$\\psi$ it its conjugate defined as $\\psi = \\frac{1-\\sqrt 5}{2} = -0.618...$"
   ]
  },
  {
   "cell_type": "markdown",
   "metadata": {},
   "source": [
    "Therefore, it could be rewritten as,\n",
    "$$\n",
    "\\begin{equation}\n",
    "F(n)= \\frac{\\phi^n - \\psi^n}{\\sqrt 5} = \\frac{1}{\\sqrt 5}\\left( \\left(\\frac{1+\\sqrt 5}{2}\\right)^n - \\left(\\frac{1-\\sqrt 5}{2}\\right)^n\\right)\n",
    "\\end{equation}\n",
    "$$"
   ]
  },
  {
   "cell_type": "markdown",
   "metadata": {},
   "source": [
    "From the equation above, you could tell that $F(n)$ is an exponental function and number of iterations $T(n)$ needs to calculate way more than that, the number of iteration required (ignoring the effect of if statement),\n",
    "\n",
    "- n = 0, $T(0) = 0$ --> call $T(0)$ -->iteration # = 1\n",
    "- n = 1, $T(1) = 1$ --> call $T(1)$ --> iteration # = 1\n",
    "- n = 2, $T(2) = 1$ --> call $T(2)$ --> iteration # = 1\n",
    "- n = 3, $T(3) = T(2) + T(1)$ --> call $T(2)$, call $T(1)$, addition operation once--> iteration # = 2\n",
    "- n = 4, $T(4) = T(3) + T(2)$ and $T(3) = T(2) + T(1)$ --> call $T(2)$ twice, call T(1), addition twice--> iteration # = 3\n",
    "- ...\n",
    "\n",
    "As $T(n)$ becomes larger, due to the recursive nature, it needs to calcualte more than what needs to be done by $F(n)$, therefore,\n",
    "$$\n",
    "\\begin{equation*}\n",
    "T(n) \\geq F(n) = \\frac{\\phi^n - \\psi^n}{\\sqrt 5}= \\frac{1}{\\sqrt 5}\\left( \\left(\\frac{1+\\sqrt 5}{2}\\right)^n - \\left(\\frac{1-\\sqrt 5}{2}\\right)^n\\right) = \\frac{1}{\\sqrt 5}\\left( \\left(\\frac{1+\\sqrt 5}{2}\\right)^n - \\left(-0.618\\right)^n\\right)\n",
    "\\end{equation*}\n",
    "$$\n",
    "\n",
    "As $n$ -> $\\infty$, the time complexity of algorithm $T(n)$ is an exponential function, which is not desirable. It is shown in the equation below,\n",
    "$$\n",
    "\\begin{equation*}\n",
    "\\lim_{n\\rightarrow\\infty} T(n) \\geq \\lim_{n\\rightarrow\\infty} F(n) \\approx \\frac{1}{\\sqrt 5}\\left(\\frac{1+\\sqrt 5}{2}\\right)^n\n",
    "\\end{equation*}\n",
    "$$"
   ]
  },
  {
   "cell_type": "markdown",
   "metadata": {},
   "source": []
  },
  {
   "cell_type": "markdown",
   "metadata": {},
   "source": [
    "### Algorithm 3-2 space saver"
   ]
  },
  {
   "cell_type": "code",
   "execution_count": 66,
   "metadata": {},
   "outputs": [],
   "source": [
    "# algorithm 3-2\n",
    "def fib_2(n):\n",
    "    \"\"\"\n",
    "    \n",
    "    Args:\n",
    "        n (_type_): _description_\n",
    "\n",
    "    Returns:\n",
    "        _type_: _description_\n",
    "    \"\"\"\n",
    "    if n == 0:\n",
    "        return 0\n",
    "    elif n == 1 or n == 2:\n",
    "        return 1\n",
    "    else:\n",
    "        # declare an array of size 1\n",
    "        space = [0 for i in range(n+1)]\n",
    "        \n",
    "        # assign values\n",
    "        space[0] = 0\n",
    "        space[1] = 1\n",
    "        space[2] = 2\n",
    "        \n",
    "        for i in range(2,n+1,1):\n",
    "            # 第三项等于前两项之和\n",
    "            space[i] = space[i-1] + space[i-2]\n",
    "        \n",
    "        # return the last element\n",
    "        return space[-1]\n",
    "        "
   ]
  },
  {
   "cell_type": "code",
   "execution_count": 67,
   "metadata": {},
   "outputs": [
    {
     "name": "stdout",
     "output_type": "stream",
     "text": [
      "The index 10 in fibonacci series is 55 with algorithm 3.2.\n"
     ]
    }
   ],
   "source": [
    "num = 10\n",
    "print(\"The index\",num,\"in fibonacci series\", \"is\", fib_2(num), \"with algorithm 3.2.\")"
   ]
  },
  {
   "cell_type": "markdown",
   "metadata": {},
   "source": [
    "\n",
    "|$F(n)$|0|1|1|2|3|5|8|13|21|34|55|\n",
    "|-|-|-|-|-|-|-|-|-|-|-|-|\n",
    "|index|0|1|2|3|4|5|6|7|8|9|10|"
   ]
  },
  {
   "cell_type": "markdown",
   "metadata": {},
   "source": []
  }
 ],
 "metadata": {
  "kernelspec": {
   "display_name": "Python 3.9.7 ('py39')",
   "language": "python",
   "name": "python3"
  },
  "language_info": {
   "codemirror_mode": {
    "name": "ipython",
    "version": 3
   },
   "file_extension": ".py",
   "mimetype": "text/x-python",
   "name": "python",
   "nbconvert_exporter": "python",
   "pygments_lexer": "ipython3",
   "version": "3.9.7"
  },
  "orig_nbformat": 4,
  "vscode": {
   "interpreter": {
    "hash": "ae1fefc8646a06dd2e75004cd934adda7c5727b046986a772e3b44b0ffba9754"
   }
  }
 },
 "nbformat": 4,
 "nbformat_minor": 2
}
