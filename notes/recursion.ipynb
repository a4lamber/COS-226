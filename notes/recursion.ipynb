{
 "cells": [
  {
   "cell_type": "markdown",
   "metadata": {},
   "source": [
    "# Understanding Recursion\n",
    "---\n",
    "The objectives for this note book is to:\n",
    "- to understand recursion via it's definition and examples\n",
    "- to undetstand how recursion is implemented by a computer\n",
    "\n",
    "**Table of content**\n",
    "- [recursion-overview](#recursion-overview)\n",
    "- [factorial-algo](#2-factorial)\n",
    "- [fibonacci-sequence](#3-fibonacci-sqeuence)\n",
    "  - [Algorithm 3.1: By recursion](#algorithm-3-1-recursive-solution)\n",
    "  - [Algorithm 3.2: Array](#algorithm-3-2-array)\n",
    "  - [Algorithm 3.3: Array?](#algorithm-3-3-array)\n",
    "  - [Algorithm 3.4: Log solution](#algorithm-3-4-could-we-go-any-further)\n"
   ]
  },
  {
   "cell_type": "markdown",
   "metadata": {},
   "source": [
    "# 1. Recursion Overview\n",
    "\n",
    "> `recursion`: recursion is a form of iteration that allows you to solve problem.\n",
    "\n",
    "It could also solve the problem tackled by `while` and `for` loop. There are three rules of recursion:\n",
    "1. A recursive algorithm must have a **base case**.\n",
    "2. A recursive algorithm must change its state and move toward the base case.\n",
    "3. A recursive algorithm must call itself, recursively.\n",
    "\n"
   ]
  },
  {
   "cell_type": "markdown",
   "metadata": {},
   "source": [
    "## 2. Factorial\n",
    "Let's understand recursion by looking at a factorial problem and you will see how the three rules of recursion work in the following code snippet."
   ]
  },
  {
   "cell_type": "markdown",
   "metadata": {},
   "source": [
    "Let's understand the concept of recusion by implementing an algorithm to calculate factorial.\n",
    "\n",
    "![a](http://www.ganitcharcha.com/media/factorial.PNG)"
   ]
  },
  {
   "cell_type": "code",
   "execution_count": 20,
   "metadata": {},
   "outputs": [],
   "source": [
    "# algorithm 2.1\n",
    "def factorial(x):\n",
    "    \"\"\"\n",
    "    Recursivly find the factorial of integer 0,1,2,...\n",
    "    \n",
    "    Args:\n",
    "        x (_type_): integer of interest\n",
    "\n",
    "    Returns:\n",
    "        _type_: x! \n",
    "    \"\"\"\n",
    "    if x == 1 or x == 0:\n",
    "        # define a base case (rule # 1)\n",
    "        return 1\n",
    "    else:\n",
    "        # recursive call (rule # 2)\n",
    "        # changing its state factorial(x-1)\n",
    "        return (x * factorial(x-1))\n"
   ]
  },
  {
   "cell_type": "markdown",
   "metadata": {},
   "source": [
    "**Output**"
   ]
  },
  {
   "cell_type": "code",
   "execution_count": 22,
   "metadata": {},
   "outputs": [
    {
     "name": "stdout",
     "output_type": "stream",
     "text": [
      "The factorial of 0 is 1  with recursion\n"
     ]
    }
   ],
   "source": [
    "num = 0\n",
    "print(\"The factorial of\", num, \"is\", factorial(num), \" with recursion\")"
   ]
  },
  {
   "cell_type": "markdown",
   "metadata": {},
   "source": [
    "In the above example, `factorial()` is a recursive function as it calls itself."
   ]
  },
  {
   "cell_type": "code",
   "execution_count": 24,
   "metadata": {},
   "outputs": [],
   "source": [
    "# algorithm 2.2\n",
    "def factorial_regular(x):\n",
    "    \"\"\"\n",
    "    calculate the factorial with iteration.\n",
    "    Args:\n",
    "        x (_type_): _description_\n",
    "\n",
    "    Returns:\n",
    "        _type_: _description_\n",
    "    \"\"\"\n",
    "    # declare a variable to store\n",
    "    temp = 1\n",
    "    \n",
    "    \n",
    "    if x == 0 or x == 1:\n",
    "        return temp\n",
    "    else:\n",
    "        # 以空间换时间\n",
    "        space = [i for i in range(x+1) if i != 0]\n",
    "        \n",
    "        for item in space:\n",
    "            temp *= item\n",
    "        return temp"
   ]
  },
  {
   "cell_type": "markdown",
   "metadata": {},
   "source": [
    "**output**"
   ]
  },
  {
   "cell_type": "code",
   "execution_count": 23,
   "metadata": {},
   "outputs": [
    {
     "name": "stdout",
     "output_type": "stream",
     "text": [
      "[1, 2, 3]\n",
      "The factorial of 3 is 6  with regular algorithm.\n"
     ]
    }
   ],
   "source": [
    "num = 3\n",
    "print(\"The factorial of\", num, \"is\", factorial_regular(num), \" with regular algorithm.\")"
   ]
  },
  {
   "cell_type": "markdown",
   "metadata": {},
   "source": [
    "From the above two algorithms, you would know that there are more than one way to solve a problem, with regular method or recursion method. Then the question arises, how could we evalute and compare these two concepts? Let's look at our old friend **time complexity** and **space complexity**.\n",
    "\n",
    "|Algorithm|Time Complexity|Space complexity|\n",
    "|-|-|-|\n",
    "|regular|$O(n)$|$O(n)$|\n",
    "|recursion|$O(n)$|$O(0)$|\n",
    "\n",
    "Reasoning for the table above is shown above,\n",
    "- for recursion, it does not create any local variable, and it recursively call itself `n` time. Therefore it's time and space complexity are $O(n)$ and $O(0)$, respectively. \n",
    "- for regular, it creates a local float variable `temp` and a list collection `space` of size `n`. It's space complexity is $O(1+n)\\approx O(n)$ as $n$ -> $\\infty$. It's time complecity is $O(n)$ since it calls itself n time."
   ]
  },
  {
   "cell_type": "markdown",
   "metadata": {},
   "source": [
    "## 3. Fibonacci Sqeuence\n",
    "\n",
    "Let's consider fibonacci sequence $F(n): 0,1,1,2,3,5,8,13,21,34...$. Every item in the sequence is defined as the sum of two previous items except for first two item. The formula is written as,\n",
    "\n",
    "$$\n",
    "\\begin{equation}\n",
    "F(n) = \\left\\{\n",
    "\\begin{array}{ll}\n",
    "      0 & n=0\\\\\n",
    "      1 & n=1\\\\\n",
    "      F(n-1) + F(n-2) & n>2 \\\\\n",
    "\\end{array} \n",
    "\\right.\n",
    "\\end{equation}\n",
    "$$"
   ]
  },
  {
   "cell_type": "markdown",
   "metadata": {},
   "source": [
    "After writing out the general formula for fibonacci sequence, isn't it a bit simpler for you to implement the code with recursion? The goal in ur mind is to construct a solution like this,\n",
    "\n",
    "|$F(n)$|0|1|1|2|3|5|8|13|21|34|55|\n",
    "|-|-|-|-|-|-|-|-|-|-|-|-|\n",
    "|index|0|1|2|3|4|5|6|7|8|9|10|\n",
    "\n",
    "\n"
   ]
  },
  {
   "cell_type": "markdown",
   "metadata": {},
   "source": [
    "### Algorithm 3-1 recursive solution"
   ]
  },
  {
   "cell_type": "code",
   "execution_count": 50,
   "metadata": {},
   "outputs": [],
   "source": [
    "# algorithm 3-1\n",
    "def fib_1(n):\n",
    "    \"\"\"\n",
    "    Solve fibonacci recursively.\n",
    "    \n",
    "    Args:\n",
    "        n (_type_): _description_\n",
    "\n",
    "    Returns:\n",
    "        _type_: _description_\n",
    "    \"\"\"\n",
    "    if n == 0:\n",
    "        return 0\n",
    "    elif n == 1 or n == 2:\n",
    "        return 1\n",
    "    else:\n",
    "        return fib_1(n-2) + fib_1(n-1)\n",
    "        "
   ]
  },
  {
   "cell_type": "markdown",
   "metadata": {},
   "source": [
    "**output**"
   ]
  },
  {
   "cell_type": "code",
   "execution_count": 49,
   "metadata": {},
   "outputs": [
    {
     "name": "stdout",
     "output_type": "stream",
     "text": [
      "The index 0 in fibonacci series is 0 with algorithm 3.1.\n"
     ]
    }
   ],
   "source": [
    "num = 0\n",
    "print(\"The index\",num,\"in fibonacci series\", \"is\", fib_1(num), \"with algorithm 3.1.\")"
   ]
  },
  {
   "cell_type": "markdown",
   "metadata": {},
   "source": [
    "After you implemented recursive solution, there are three questions:\n",
    "- is the algorithm correct?\n",
    "- what's the space and time complexity for this?\n",
    "- Room for improvement?\n",
    "\n",
    "Let's consider the number of iteration needed for computation of $F(n)$ as $T(n)$, the general formula for $T(n)$ is,\n",
    "\n",
    "$$\n",
    "\\begin{equation}\n",
    "F(n) = \\left\\{\n",
    "\\begin{array}{ll}\n",
    "      0 & n=0\\\\\n",
    "      1 & n=1\\\\\n",
    "      F(n-1) + F(n-2) & n>2 \\\\\n",
    "\\end{array} \n",
    "\\right.\n",
    "\n",
    "\\quad\\quad\\quad\n",
    "\n",
    "T(n) = \\left\\{\n",
    "\\begin{array}{ll}\n",
    "      T(n) = 1 & n=0\\\\\n",
    "      T(n) = 1 & n=1\\\\\n",
    "      T(n-1) + T(n-2) & n>2 \\\\\n",
    "\\end{array} \n",
    "\\right.\n",
    "\\end{equation}\n",
    "$$\n",
    "\n",
    "We express the $F(n) = F(n-1) + F(n-2) $, is there a closed-form solution for it so we could estimate what's the time complexity for it?"
   ]
  },
  {
   "cell_type": "markdown",
   "metadata": {},
   "source": [
    "Fibnonacci series belongs to the category of constant-recursive sequence (also called linear recurrence sequence). In mathematics and theoretical computer science, a [constant-recursive sequence](https://en.wikipedia.org/wiki/Constant-recursive_sequence) is an infinite sequence of numbers where each number in the sequence is equal to a fixed linear combination of one or more of its immediate predecessors.\n",
    "\n",
    "For constant-recursive sequence, a closed-form solution exist and for this particular case of Fibnonacci series, it is derived by french mathmatician [Binet](https://en.wikipedia.org/wiki/Jacques_Philippe_Marie_Binet) named **Binet's formula**. It is defined as,\n",
    "\n",
    "$$\n",
    "\\begin{equation}\n",
    "F(n) = \\frac{\\phi^n - \\psi^n}{\\phi - \\psi} = \\frac{\\phi^n - \\psi^n}{\\sqrt 5}\n",
    "\\end{equation}\n",
    "$$\n",
    "where $\\phi$ is golden ratio $\\phi = \\frac{1+\\sqrt 5}{2}\\approx 1.61803...$,\n",
    "\n",
    "$\\psi$ it its conjugate defined as $\\psi = \\frac{1-\\sqrt 5}{2} = -0.618...$"
   ]
  },
  {
   "cell_type": "markdown",
   "metadata": {},
   "source": [
    "Therefore, it could be rewritten as,\n",
    "$$\n",
    "\\begin{equation}\n",
    "F(n)= \\frac{\\phi^n - \\psi^n}{\\sqrt 5} = \\frac{1}{\\sqrt 5}\\left( \\left(\\frac{1+\\sqrt 5}{2}\\right)^n - \\left(\\frac{1-\\sqrt 5}{2}\\right)^n\\right)\n",
    "\\end{equation}\n",
    "$$"
   ]
  },
  {
   "cell_type": "markdown",
   "metadata": {},
   "source": [
    "From the equation above, you could tell that $F(n)$ is an exponental function and number of iterations $T(n)$ needs to calculate way more than that, the number of iteration required (ignoring the effect of if statement),\n",
    "\n",
    "- n = 0, $T(0) = 0$ --> call $T(0)$ -->iteration # = 1\n",
    "- n = 1, $T(1) = 1$ --> call $T(1)$ --> iteration # = 1\n",
    "- n = 2, $T(2) = 1$ --> call $T(2)$ --> iteration # = 1\n",
    "- n = 3, $T(3) = T(2) + T(1)$ --> call $T(2)$, call $T(1)$, addition operation once--> iteration # = 2\n",
    "- n = 4, $T(4) = T(3) + T(2)$ and $T(3) = T(2) + T(1)$ --> call $T(2)$ twice, call T(1), addition twice--> iteration # = 3\n",
    "- ...\n",
    "\n",
    "As $T(n)$ becomes larger, due to the recursive nature, it needs to calcualte more than what needs to be done by $F(n)$, therefore,\n",
    "$$\n",
    "\\begin{equation}\n",
    "T(n) \\geq F(n) = \\frac{\\phi^n - \\psi^n}{\\sqrt 5}= \\frac{1}{\\sqrt 5}\\left( \\left(\\frac{1+\\sqrt 5}{2}\\right)^n - \\left(\\frac{1-\\sqrt 5}{2}\\right)^n\\right) = \\frac{1}{\\sqrt 5}\\left( \\left(\\frac{1+\\sqrt 5}{2}\\right)^n - \\left(-0.618\\right)^n\\right)\n",
    "\\end{equation}\n",
    "$$\n",
    "\n",
    "As $n$ -> $\\infty$, the time complexity of algorithm $T(n)$ is an exponential function, which is not desirable. It is shown in the equation below,\n",
    "$$\n",
    "\\begin{equation}\n",
    "\\lim_{n\\rightarrow\\infty} T(n) \\geq \\lim_{n\\rightarrow\\infty} F(n) \\approx \\frac{1}{\\sqrt 5}\\left(\\frac{1+\\sqrt 5}{2}\\right)^n\n",
    "\\end{equation}\n",
    "$$"
   ]
  },
  {
   "cell_type": "markdown",
   "metadata": {},
   "source": []
  },
  {
   "cell_type": "markdown",
   "metadata": {},
   "source": [
    "### Algorithm 3-2 Array\n",
    "In the last example, we used **recursion** to recursively call function to compute next item. We have to do many redudant work to computer $F(n)$ which causes the logrithmic time complexity. For example, \n",
    "\n",
    "- n = 0, $T(0) = 0$ --> call $T(0)$ -->iteration # = 1\n",
    "- n = 1, $T(1) = 1$ --> call $T(1)$ --> iteration # = 1\n",
    "- n = 2, $T(2) = 1$ --> call $T(2)$ --> iteration # = 1\n",
    "- n = 3, $T(3) = T(2) + T(1)$ --> call $T(2)$, call $T(1)$, addition operation once--> iteration # = 2\n",
    "- ...\n",
    "- n = 10, $T(10) = T(9) + T(8)$, $T(9) = T(8) + T(7)$, $T(8) = T(7) + T(6)$  \n",
    "- ..."
   ]
  },
  {
   "cell_type": "code",
   "execution_count": 89,
   "metadata": {},
   "outputs": [],
   "source": [
    "# algorithm 3-2\n",
    "def fib_2(n):\n",
    "    \"\"\"\n",
    "    \n",
    "    Args:\n",
    "        n (_type_): _description_\n",
    "\n",
    "    Returns:\n",
    "        _type_: _description_\n",
    "    \"\"\"\n",
    "    if n == 0:\n",
    "        return 0\n",
    "    elif n == 1 or n == 2:\n",
    "        return 1\n",
    "    else:\n",
    "        # declare an array of size 1\n",
    "        space = [0 for i in range(n+1)]\n",
    "        \n",
    "        # assign values\n",
    "        space[0] = 0\n",
    "        space[1] = 1\n",
    "        space[2] = 1\n",
    "        \n",
    "        for i in range(2,n+1,1):\n",
    "            # 第三项等于前两项之和\n",
    "            space[i] = space[i-1] + space[i-2]\n",
    "        \n",
    "        # return the last element\n",
    "        return space[-1]\n",
    "        "
   ]
  },
  {
   "cell_type": "code",
   "execution_count": 79,
   "metadata": {},
   "outputs": [
    {
     "name": "stdout",
     "output_type": "stream",
     "text": [
      "The index 5 in fibonacci series is 5 with algorithm 3.2.\n"
     ]
    }
   ],
   "source": [
    "num = 5\n",
    "print(\"The index\",num,\"in fibonacci series\", \"is\", fib_2(num), \"with algorithm 3.2.\")"
   ]
  },
  {
   "cell_type": "markdown",
   "metadata": {},
   "source": [
    "### Algorithm 3-3 Array?\n",
    "From algorithm, we used a list to store all previous elements to compute the fib sequence. The question is do we really need to store all this information?"
   ]
  },
  {
   "cell_type": "code",
   "execution_count": 90,
   "metadata": {},
   "outputs": [],
   "source": [
    "# algorithm 3.3\n",
    "def fib_3(n):\n",
    "    \"\"\"\n",
    "    辗转相加法 is so cool. The idea is similar in insertion sort.\n",
    "    Args:\n",
    "        n (_type_): _description_\n",
    "\n",
    "    Returns:\n",
    "        _type_: _description_\n",
    "    \"\"\"\n",
    "    if n == 0:\n",
    "        return 0\n",
    "    elif n == 1 or n == 2:\n",
    "        return 1\n",
    "    else:\n",
    "        # initialize 1st two elements\n",
    "        temp_1 = 1\n",
    "        temp_2 = 1\n",
    "        for i in range(2,n,1):\n",
    "            # 辗转相加法 silimiar to 辗转相除法 (eucledian algorithm) for 最大公约数 finding\n",
    "            temp_2 = temp_2 + temp_1\n",
    "            temp_1 = temp_2 - temp_1\n",
    "        return temp_2\n",
    "        "
   ]
  },
  {
   "cell_type": "code",
   "execution_count": 93,
   "metadata": {},
   "outputs": [
    {
     "name": "stdout",
     "output_type": "stream",
     "text": [
      "The index 5 in fibonacci series is 5 with algorithm 3.3.\n"
     ]
    }
   ],
   "source": [
    "num = 5\n",
    "print(\"The index\",num,\"in fibonacci series\", \"is\", fib_3(num), \"with algorithm 3.3.\")"
   ]
  },
  {
   "cell_type": "markdown",
   "metadata": {},
   "source": [
    "From the last three algorithms, we went from exponential scale in time complexity to polynomical scale time and space complexity, eventually to polynomial scale in time and constant scale in space.\n",
    "\n",
    "|Algorithm|Time Complexity|Space complexity|\n",
    "|-|-|-|\n",
    "|Algo 3.1 recursion|$O(\\frac{1+\\sqrt 5}{2}^n)$|$O(1)$|\n",
    "|Algo 3.2 array|$O(n)$|$O(n)$|\n",
    "|Algo 3.3 array?|$O(n)$|$O(2)$|\n",
    "\n"
   ]
  },
  {
   "cell_type": "markdown",
   "metadata": {},
   "source": [
    "### Algorithm 3-4 Could we go any further?\n",
    "\n",
    "Let's express the fibonacci sequence in algebric form\n",
    "\n",
    "$$\n",
    "\\begin{equation}\n",
    "F_n = F_{n-1} + F_{n-2}\n",
    "\\end{equation}\n",
    "$$\n",
    "\n",
    "\n",
    "If we express it in matrix form,\n",
    "\n",
    "$$\n",
    "\\begin{equation}\n",
    "\\begin{bmatrix}\n",
    "F_n\n",
    "\\end{bmatrix}\n",
    "= \n",
    "\\begin{bmatrix}\n",
    "1 & 1\n",
    "\\end{bmatrix}\n",
    "\\begin{bmatrix}\n",
    "F_{n-1} \\\\ F_{n-2}\n",
    "\\end{bmatrix}\n",
    "\\end{equation}\n",
    "$$\n",
    "\n",
    "Now we express both $F_{n}$ and $F_{n-1}$ in matrix form,\n",
    "\n",
    "$$\n",
    "\\begin{equation}\n",
    "\\begin{bmatrix}\n",
    "F_{n} \\\\ F_{n-1} \n",
    "\\end{bmatrix} \n",
    "= \n",
    "\\begin{bmatrix}\n",
    "1 & 1 \\\\\n",
    "1 & 0 \n",
    "\\end{bmatrix}\n",
    "\\begin{bmatrix}\n",
    "F_{n-1} \\\\ F_{n-2} \n",
    "\\end{bmatrix}\n",
    "\\end{equation}\n",
    "$$  "
   ]
  },
  {
   "cell_type": "markdown",
   "metadata": {},
   "source": [
    "Now we have a transformation matric $\\begin{bmatrix}\n",
    "1 & 1 \\\\ 1 & 0\n",
    "\\end{bmatrix}$ to advance one step. We could then express any element in Fibonacci sequence with transformation matrix and initial element.\n",
    "\n",
    "$$\n",
    "\\begin{equation}\n",
    "F_{n} \n",
    "= \n",
    "\\begin{bmatrix}\n",
    "1 & 1 \\\\\n",
    "1 & 0 \n",
    "\\end{bmatrix}^n\n",
    "\\begin{bmatrix}\n",
    "1 \\\\ 0\n",
    "\\end{bmatrix}\n",
    "= A^nF_0\n",
    "\\end{equation}\n",
    "$$  \n",
    "\n",
    "where $A$ is the transformation matrix, $F_0$ initial two values in Fibonacci sequence.\n",
    "\n",
    "For getting $A^n$, it would be a linear operation of calculating $A^n$ to get $F_{n}$. However, we could make the algorithm from linear to logrithmic by squaring successively smaller matrices.\n",
    "$$\n",
    "\\begin{equation*}\n",
    "A^n = \\left\\{\\begin{array}{ll}\n",
    "      (A^\\frac{n}{2})^2 & if\\:n\\:is\\:even\\\\\n",
    "      AA^{n-1} & if\\:n\\:is\\:odd\\\\\n",
    "\\end{array} \n",
    "\\right.\n",
    "\\end{equation*}\n",
    "$$"
   ]
  },
  {
   "cell_type": "markdown",
   "metadata": {},
   "source": [
    "For example, if we want to calculate $F_{16} = A^{16}F_0$ and the calculation of $A^{16}$ could be simplified to:\n",
    "\\begin{equation}\n",
    "A^{16} = (A^{8})^2 = ((A^{4})^2)^2 = (((A^{2})^2)^2)^2\n",
    "\\end{equation}\n",
    "\n",
    "To get $F_{16}$, it took us multiplication of matrix A 16 times. Now it only takes square of matrix A^2 for 4 times. If we write down the number of iteration needed, we could get a table like this\n",
    "\n",
    "|F(n)|# of mulplication for A|# of mulplication for A|\n",
    "|-|-|-|\n",
    "|2|2|1|\n",
    "|4|4|2|\n",
    "|8|8|3|\n",
    "|16|16|4|\n",
    "|32|32|5|\n",
    "\n",
    "The function is \n",
    "\n",
    "$$\n",
    "\\begin{equation}\n",
    "log_2(n) = X\n",
    "\\end{equation}\n",
    "$$\n",
    "where X is the number of squaring required to get $F_n$.\n",
    "\n",
    "> In fact, for any successive multiplication would be simplied by the squaring trick reducing its time complexity to logrithmic scale.\n",
    "\n",
    "\n"
   ]
  },
  {
   "cell_type": "markdown",
   "metadata": {},
   "source": [
    "Since the algorithm is dependend on whether the power of transformation matrix is odd or even number, we need to take modulus operation for the following equation.\n",
    "$$\n",
    "\\begin{align}\n",
    "F_{n} \n",
    "&= \n",
    "\\begin{bmatrix}\n",
    "1 & 1 \\\\\n",
    "1 & 0 \n",
    "\\end{bmatrix}^n\n",
    "\\begin{bmatrix}\n",
    "1 \\\\ 0\n",
    "\\end{bmatrix}\n",
    "= A^nF_0\\\\\n",
    "F_n \\:\\mathrm{\\%}\\:m &= (A^n\\:\\mathrm{\\%}\\:m) (\\:F_0\\:\\%\\:m)\\\\\n",
    "\\end{align}\n",
    "$$  \n",
    "where $\\%$ is the modulus operator, $m$ the moudlo"
   ]
  },
  {
   "cell_type": "markdown",
   "metadata": {},
   "source": [
    "$$\n",
    "\\begin{equation}\n",
    "A^n\\:\\%\\:m = \\left\\{\\begin{array}{ll}\n",
    "      (A^\\frac{n}{2}\\:\\%\\:m)^2 & if\\:n\\:is\\:even\\\\\n",
    "      A(A^{n-1}\\:\\%\\:m) & if\\:n\\:is\\:odd\\\\\n",
    "\\end{array} \n",
    "\\right.\n",
    "\\end{equation}\n",
    "$$\n",
    "Now, we try to list out the equation of interst,"
   ]
  },
  {
   "cell_type": "code",
   "execution_count": 257,
   "metadata": {},
   "outputs": [],
   "source": [
    "# Algorithm 3.4\n",
    "import numpy as np\n",
    "\n",
    "def fib_log(n):\n",
    "    \"\"\"\n",
    "    The little tricks of simplifing the result via divide and conquer \n",
    "    \n",
    "    Args:\n",
    "        n (integer): index of fibonachi sequence\n",
    "\n",
    "    Returns:\n",
    "        int: value of fibbonachi\n",
    "    \"\"\"\n",
    "    # define the first two elements in the array\n",
    "    F_0 = np.array([[1],[0]])\n",
    "    \n",
    "    # define transformation matrix\n",
    "    A = np.array([[1,1],[1,0]])\n",
    "    \n",
    "    # matrix multiplication of A * A \n",
    "    A_squ = np.matmul(A,A)\n",
    "    \n",
    "    # declare a variable and initialize it with A * A\n",
    "    A_n = A_squ\n",
    "    \n",
    "    if n == 0:\n",
    "        return 0\n",
    "    elif n == 1:\n",
    "        return 1\n",
    "    else:\n",
    "        if (n-1) % 2 == 1:\n",
    "            # n is even starting from 2\n",
    "            for _ in range((n-1)//2):\n",
    "                # get A^(n)\n",
    "                A_n = np.matmul(A_n,A_squ)\n",
    "\n",
    "        \n",
    "        else:\n",
    "            # n is odd starting from 3\n",
    "            for _ in range((n-2)//2):\n",
    "                # get A^(n-1)\n",
    "                A_n = np.matmul(A_n,A_squ)\n",
    "            # A_n\n",
    "            A_n = np.matmul(A_n,A)\n",
    "        \n",
    "        # F_n = A_n * F_0\n",
    "        F_n = np.matmul(A_n, F_0)\n",
    "        \n",
    "        # F_n = {F_n, F_{n-1}}, we want F_{n-1}\n",
    "        return int(F_n[1])"
   ]
  },
  {
   "cell_type": "markdown",
   "metadata": {},
   "source": [
    "**output**\n",
    "|$F(n)$|0|1|1|2|3|5|8|13|21|34|55|\n",
    "|-|-|-|-|-|-|-|-|-|-|-|-|\n",
    "|index|0|1|2|3|4|5|6|7|8|9|10|"
   ]
  },
  {
   "cell_type": "code",
   "execution_count": 259,
   "metadata": {},
   "outputs": [
    {
     "data": {
      "text/plain": [
       "89"
      ]
     },
     "execution_count": 259,
     "metadata": {},
     "output_type": "execute_result"
    }
   ],
   "source": [
    "fib_log(11)"
   ]
  },
  {
   "cell_type": "markdown",
   "metadata": {},
   "source": [
    "Now, we have improved both on time and space complexity\n",
    "\n",
    "|Algorithm|Time Complexity|Space complexity|\n",
    "|-|-|-|\n",
    "|Algo 3.1 recursion|$O((\\frac{1+\\sqrt 5}{2})^n)$|$O(1)$|\n",
    "|Algo 3.2 array|$O(n)$|$O(n)$|\n",
    "|Algo 3.3 array?|$O(n)$|$O(2)$|\n",
    "|Algo 3.4 log|$O(log_2(n))$|$O(c.s.t.)$|\n",
    "\n",
    "where $c.s.t.$ stands for constant.\n"
   ]
  },
  {
   "cell_type": "markdown",
   "metadata": {},
   "source": [
    "## Summary\n",
    "In this notebook, we have learnt recursion by implementing algorithms with different space and time complexity for solving factorial and fibonacci sequence. \n",
    "\n",
    "For factorial,\n",
    "- recursion algorithm\n",
    "- regular algorithm with an array storing its elements\n",
    "  \n",
    "For fibonacci sequence,\n",
    "- recursion alglorithm\n",
    "- an array for storing intermediate elements\n",
    "- two temporary variable to store last two elements\n",
    "- applying divide and conquer concept to break down the model\n",
    "\n",
    "\n",
    "Just some food for thought here:\n",
    "> Q: if you were asked to find a really large number in fibonacci sequence such as $F(n) = F(10^{80})$, how would improve from **Algorithm 3.4**?\n",
    "\n",
    "> Hint: think about the idea of divide and conquer break it down to $A^2$ and its square. What about $A^n$?\n"
   ]
  },
  {
   "cell_type": "code",
   "execution_count": null,
   "metadata": {},
   "outputs": [],
   "source": []
  }
 ],
 "metadata": {
  "kernelspec": {
   "display_name": "Python 3.9.7 ('py39')",
   "language": "python",
   "name": "python3"
  },
  "language_info": {
   "codemirror_mode": {
    "name": "ipython",
    "version": 3
   },
   "file_extension": ".py",
   "mimetype": "text/x-python",
   "name": "python",
   "nbconvert_exporter": "python",
   "pygments_lexer": "ipython3",
   "version": "3.9.7"
  },
  "orig_nbformat": 4,
  "vscode": {
   "interpreter": {
    "hash": "ae1fefc8646a06dd2e75004cd934adda7c5727b046986a772e3b44b0ffba9754"
   }
  }
 },
 "nbformat": 4,
 "nbformat_minor": 2
}
